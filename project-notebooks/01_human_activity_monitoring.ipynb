{
  "cells": [
    {
      "cell_type": "code",
      "execution_count": null,
      "metadata": {
        "id": "Rkf8-XmA72YS"
      },
      "outputs": [],
      "source": [
        "import time\n",
        "import numpy as np\n",
        "import torch\n",
        "import torch.nn as nn\n",
        "import torch.optim as optim\n",
        "import matplotlib.pyplot as plt\n",
        "from sklearn.svm import SVC\n",
        "from sklearn.ensemble import RandomForestClassifier\n",
        "from sklearn.linear_model import LogisticRegression\n",
        "from sklearn.metrics import accuracy_score, f1_score, confusion_matrix"
      ]
    },
    {
      "cell_type": "markdown",
      "source": [
        "# Mounting Google Drive"
      ],
      "metadata": {
        "id": "6jr5xW7xA9ZN"
      }
    },
    {
      "cell_type": "code",
      "source": [
        "from google.colab import drive\n",
        "drive.mount('/content/drive')"
      ],
      "metadata": {
        "colab": {
          "base_uri": "https://localhost:8080/"
        },
        "id": "hZxK2KZ4yoqM",
        "outputId": "e65e5b13-125f-4971-d826-4e6ac6c0901f"
      },
      "execution_count": null,
      "outputs": [
        {
          "output_type": "stream",
          "name": "stdout",
          "text": [
            "Mounted at /content/drive\n"
          ]
        }
      ]
    },
    {
      "cell_type": "markdown",
      "source": [
        "# **Activity Data Extraction**"
      ],
      "metadata": {
        "id": "Lk1xbHWUt7l6"
      }
    },
    {
      "cell_type": "markdown",
      "source": [
        "## Data Extraction for training"
      ],
      "metadata": {
        "id": "V2vHKAaDBCJm"
      }
    },
    {
      "cell_type": "code",
      "source": [
        "train_msAcc = np.load(r\"/content/drive/MyDrive/cogage/cogage_bbh/bbh/training/trainMSAccelerometer.npy\")\n",
        "train_msGyr = np.load(r\"/content/drive/MyDrive/cogage/cogage_bbh/bbh/training/trainMSGyroscope.npy\")\n",
        "train_labels = np.load(r\"/content/drive/MyDrive/cogage/cogage_bbh/bbh/training/trainLabels.npy\")"
      ],
      "metadata": {
        "id": "EUIs6knWsdUa"
      },
      "execution_count": null,
      "outputs": []
    },
    {
      "cell_type": "code",
      "source": [
        "train_msAcc.shape, train_msGyr.shape, train_labels.shape"
      ],
      "metadata": {
        "colab": {
          "base_uri": "https://localhost:8080/"
        },
        "id": "opKMEZ8dsfzd",
        "outputId": "da38fcaf-ad23-4bec-b25e-46ce4d41d32d"
      },
      "execution_count": null,
      "outputs": [
        {
          "output_type": "execute_result",
          "data": {
            "text/plain": [
              "((2284, 268, 3), (2284, 268, 3), (2284,))"
            ]
          },
          "metadata": {},
          "execution_count": 5
        }
      ]
    },
    {
      "cell_type": "code",
      "source": [
        "type(train_msAcc), type(train_msGyr), type(train_labels)"
      ],
      "metadata": {
        "colab": {
          "base_uri": "https://localhost:8080/"
        },
        "id": "b0eRSrfQta1n",
        "outputId": "d9d71996-f41f-4060-d0f0-77dbd557a6f1"
      },
      "execution_count": null,
      "outputs": [
        {
          "output_type": "execute_result",
          "data": {
            "text/plain": [
              "(numpy.ndarray, numpy.ndarray, numpy.ndarray)"
            ]
          },
          "metadata": {},
          "execution_count": 6
        }
      ]
    },
    {
      "cell_type": "code",
      "source": [
        "np.unique(train_msAcc), np.unique(train_msGyr), np.unique(train_labels)"
      ],
      "metadata": {
        "colab": {
          "base_uri": "https://localhost:8080/"
        },
        "id": "wkGefIlktkR6",
        "outputId": "6f734284-feab-45ea-e93a-fdc4da38f7ba"
      },
      "execution_count": null,
      "outputs": [
        {
          "output_type": "execute_result",
          "data": {
            "text/plain": [
              "(array([-7.991211 , -7.9902344, -7.986328 , ...,  7.8398438,  7.9375   ,\n",
              "         7.9990234], dtype=float32),\n",
              " array([-998.65857, -998.62805, -998.5976 , ...,  998.8415 ,  998.90247,\n",
              "         998.9939 ], dtype=float32),\n",
              " array([ 0,  1,  2,  3,  4,  5,  6,  7,  8,  9, 10, 11, 12, 13, 14, 15, 16,\n",
              "        17, 18, 19, 20, 21, 22, 23, 24, 25, 26, 27, 28, 29, 30, 31, 32, 33,\n",
              "        34, 35, 36, 37, 38, 39, 40, 41, 42, 43, 44, 45, 46, 47, 48, 49, 50,\n",
              "        51, 52, 53, 54]))"
            ]
          },
          "metadata": {},
          "execution_count": 7
        }
      ]
    },
    {
      "cell_type": "code",
      "source": [
        "# indexes = np.where(train_labels == 25)[0]\n",
        "indexes = np.where(train_labels == 9)[0]\n",
        "\n",
        "print(f\"Indexes where train_labels is equal to 9: {indexes}, \\n {len(indexes)}\")"
      ],
      "metadata": {
        "colab": {
          "base_uri": "https://localhost:8080/"
        },
        "id": "ArHSXGSRwwWN",
        "outputId": "28c2a625-2b5e-43ed-ed5f-e9823397f40f"
      },
      "execution_count": null,
      "outputs": [
        {
          "output_type": "stream",
          "name": "stdout",
          "text": [
            "Indexes where train_labels is equal to 9: [  97  216  396  479  858  940 1125 1188 1284 1530 1660 1715 1830 1882\n",
            " 1988 2013 2016 2024 2046 2056], \n",
            " 20\n"
          ]
        }
      ]
    },
    {
      "cell_type": "code",
      "source": [
        "train_msAcc = np.load(r\"/content/drive/MyDrive/cogage/cogage_bbh/bbh/training/trainMSAccelerometer.npy\")\n",
        "train_msGyr = np.load(r\"/content/drive/MyDrive/cogage/cogage_bbh/bbh/training/trainMSGyroscope.npy\")\n",
        "train_labels = np.load(r\"/content/drive/MyDrive/cogage/cogage_bbh/bbh/training/trainLabels.npy\")\n",
        "\n",
        "CLOSE_TAP_WATER = 9\n",
        "OPEN_TAP_WATER = 25\n",
        "\n",
        "train_labels_CLOSE_TAP_WATER_idx = train_labels == CLOSE_TAP_WATER\n",
        "train_labels_OPEN_TAP_WATER_idx = train_labels == OPEN_TAP_WATER\n",
        "\n",
        "train_msAcc_CLOSE_TAP_WATER = train_msAcc[train_labels_CLOSE_TAP_WATER_idx]\n",
        "train_msGyr_CLOSE_TAP_WATER = train_msGyr[train_labels_CLOSE_TAP_WATER_idx]\n",
        "\n",
        "train_msAcc_OPEN_TAP_WATER = train_msAcc[train_labels_OPEN_TAP_WATER_idx]\n",
        "train_msGyr_OPEN_TAP_WATER = train_msGyr[train_labels_OPEN_TAP_WATER_idx]\n",
        "\n",
        "train_labels_CLOSE_TAP_WATER = train_labels[train_labels_CLOSE_TAP_WATER_idx]\n",
        "train_labels_OPEN_TAP_WATER = train_labels[train_labels_OPEN_TAP_WATER_idx]\n",
        "\n",
        "train_msAcc_Two_Activities = np.concatenate((train_msAcc_CLOSE_TAP_WATER, train_msAcc_OPEN_TAP_WATER))\n",
        "train_msGyr_Two_Activities = np.concatenate((train_msGyr_CLOSE_TAP_WATER, train_msGyr_OPEN_TAP_WATER))\n",
        "train_labels_Two_Activities = np.concatenate((train_labels_CLOSE_TAP_WATER, train_labels_OPEN_TAP_WATER))\n",
        "\n",
        "np.save(\"/content/drive/MyDrive/cogage/activity_extracted/train_MSAccelerometer_CLOSE_TAP_WATER_OPEN_TAP_WATER.npy\", train_msAcc_Two_Activities)\n",
        "np.save(\"/content/drive/MyDrive/cogage/activity_extracted/train_MSGyroscope_CLOSE_TAP_WATER_OPEN_TAP_WATER.npy\", train_msGyr_Two_Activities)\n",
        "np.save(\"/content/drive/MyDrive/cogage/activity_extracted/train_labels_CLOSE_TAP_WATER_OPEN_TAP_WATER.npy\", train_labels_Two_Activities)"
      ],
      "metadata": {
        "id": "wc_aLHC8A0E0"
      },
      "execution_count": null,
      "outputs": []
    },
    {
      "cell_type": "markdown",
      "source": [
        "## Data Extraction for Testing"
      ],
      "metadata": {
        "id": "aFz43lAeFE9d"
      }
    },
    {
      "cell_type": "code",
      "source": [
        "test_msAcc = np.load(r\"/content/drive/MyDrive/cogage/cogage_bbh/bbh/testing/testMSAccelerometer.npy\")\n",
        "test_msGyr = np.load(r\"/content/drive/MyDrive/cogage/cogage_bbh/bbh/testing/testMSGyroscope.npy\")\n",
        "test_labels = np.load(r\"/content/drive/MyDrive/cogage/cogage_bbh/bbh/testing/testLabels.npy\")\n",
        "\n",
        "\n",
        "CLOSE_TAP_WATER = 9\n",
        "OPEN_TAP_WATER = 25\n",
        "\n",
        "test_labels_CLOSE_TAP_WATER_idx = test_labels == CLOSE_TAP_WATER\n",
        "test_labels_OPEN_TAP_WATER_idx = test_labels == OPEN_TAP_WATER\n",
        "\n",
        "test_msAcc_CLOSE_TAP_WATER = test_msAcc[test_labels_CLOSE_TAP_WATER_idx]\n",
        "test_msGyr_CLOSE_TAP_WATER = test_msGyr[test_labels_CLOSE_TAP_WATER_idx]\n",
        "\n",
        "test_msAcc_OPEN_TAP_WATER = test_msAcc[test_labels_OPEN_TAP_WATER_idx]\n",
        "test_msGyr_OPEN_TAP_WATER = test_msGyr[test_labels_OPEN_TAP_WATER_idx]\n",
        "\n",
        "test_labels_CLOSE_TAP_WATER = test_labels[test_labels_CLOSE_TAP_WATER_idx]\n",
        "test_labels_OPEN_TAP_WATER = test_labels[test_labels_OPEN_TAP_WATER_idx]\n",
        "\n",
        "test_msAcc_Two_Activities = np.concatenate((test_msAcc_CLOSE_TAP_WATER, test_msAcc_OPEN_TAP_WATER))\n",
        "test_msGyr_Two_Activities = np.concatenate((test_msGyr_CLOSE_TAP_WATER, test_msGyr_OPEN_TAP_WATER))\n",
        "test_labels_Two_Activities = np.concatenate((test_labels_CLOSE_TAP_WATER, test_labels_OPEN_TAP_WATER))\n",
        "\n",
        "np.save(\"/content/drive/MyDrive/cogage/activity_extracted/test_MSAccelerometer_CLOSE_TAP_WATER_OPEN_TAP_WATER.npy\", test_msAcc_Two_Activities)\n",
        "np.save(\"/content/drive/MyDrive/cogage/activity_extracted/test_MSGyroscope_CLOSE_TAP_WATER_OPEN_TAP_WATER.npy\", test_msGyr_Two_Activities)\n",
        "np.save(\"/content/drive/MyDrive/cogage/activity_extracted/test_labels_CLOSE_TAP_WATER_OPEN_TAP_WATER.npy\", test_labels_Two_Activities)"
      ],
      "metadata": {
        "id": "eTiYsnfFFC6T"
      },
      "execution_count": null,
      "outputs": []
    },
    {
      "cell_type": "code",
      "execution_count": null,
      "metadata": {
        "id": "VDFnrSNj-0u6"
      },
      "outputs": [],
      "source": [
        "#specify path of the dataset folder\n",
        "path = \"/content/drive/MyDrive/Activity Monitoring/bbh/Activities Extracted/\"\n",
        "\n",
        "train_msAcc_path = \"/content/drive/MyDrive/cogage/activity_extracted/train_MSAccelerometer_CLOSE_TAP_WATER_OPEN_TAP_WATER.npy\"\n",
        "train_msGyr_path = \"/content/drive/MyDrive/cogage/activity_extracted/train_MSGyroscope_CLOSE_TAP_WATER_OPEN_TAP_WATER.npy\"\n",
        "train_labels_path = \"/content/drive/MyDrive/cogage/activity_extracted/train_labels_CLOSE_TAP_WATER_OPEN_TAP_WATER.npy\"\n",
        "\n",
        "test_msAcc_path = \"/content/drive/MyDrive/cogage/activity_extracted/test_MSAccelerometer_CLOSE_TAP_WATER_OPEN_TAP_WATER.npy\"\n",
        "test_msGyr_path = \"/content/drive/MyDrive/cogage/activity_extracted/test_MSGyroscope_CLOSE_TAP_WATER_OPEN_TAP_WATER.npy\"\n",
        "test_msLabels_path = \"/content/drive/MyDrive/cogage/activity_extracted/test_labels_CLOSE_TAP_WATER_OPEN_TAP_WATER.npy\""
      ]
    },
    {
      "cell_type": "markdown",
      "source": [
        "# Loading Extracted Data"
      ],
      "metadata": {
        "id": "aXQksv8iIFfY"
      }
    },
    {
      "cell_type": "code",
      "execution_count": null,
      "metadata": {
        "id": "Aqp09hRM_Adh"
      },
      "outputs": [],
      "source": [
        "train_msAcc = np.load(train_msAcc_path)\n",
        "train_msGyro = np.load(train_msGyr_path)\n",
        "train_labels = np.load(train_labels_path)\n",
        "\n",
        "test_msAcc = np.load(test_msAcc_path)\n",
        "test_msGyro = np.load(test_msGyr_path)\n",
        "test_labels = np.load(test_msLabels_path)"
      ]
    },
    {
      "cell_type": "markdown",
      "source": [
        "# Pre-Processing"
      ],
      "metadata": {
        "id": "UiT3DGxwI6Tu"
      }
    },
    {
      "cell_type": "code",
      "execution_count": null,
      "metadata": {
        "id": "Hby7Yux2AwMP",
        "colab": {
          "base_uri": "https://localhost:8080/"
        },
        "outputId": "a9b7c65f-6f07-42fa-d4fc-7c0f35423351"
      },
      "outputs": [
        {
          "output_type": "stream",
          "name": "stdout",
          "text": [
            "(40, 268, 3)\n",
            "(40, 268, 3)\n",
            "(40,)\n",
            "(40, 268, 3)\n",
            "(40, 268, 3)\n",
            "(40,)\n"
          ]
        }
      ],
      "source": [
        "#print the shapes of all data arrays\n",
        "print(np.shape(train_msAcc))\n",
        "print(np.shape(train_msGyro))\n",
        "print(np.shape(train_labels))\n",
        "\n",
        "print(np.shape(test_msAcc))\n",
        "print(np.shape(test_msGyro))\n",
        "print(np.shape(test_labels))"
      ]
    },
    {
      "cell_type": "code",
      "execution_count": null,
      "metadata": {
        "id": "B0Kwt5mzDxLx"
      },
      "outputs": [],
      "source": [
        "#set number of train examples and test examples according to the shape of train and test data\n",
        "training_examples = 40\n",
        "testing_examples = 40"
      ]
    },
    {
      "cell_type": "code",
      "execution_count": null,
      "metadata": {
        "id": "JnCrWpy3EmxB",
        "colab": {
          "base_uri": "https://localhost:8080/"
        },
        "outputId": "54eef27c-7b06-44d9-dec2-d269425feeca"
      },
      "outputs": [
        {
          "output_type": "stream",
          "name": "stdout",
          "text": [
            "Shape of train_features: (40, 12, 3)\n",
            "Shape of test_features: (40, 12, 3)\n"
          ]
        }
      ],
      "source": [
        "#decide for num of features for example min, max, mean, std, etc. and create/prepare numpy arrays (for training and testing data) to store them\n",
        "#Hint: size of train_features array = np.zeros((train_num_examples, num_of_sensors * num_features, 3))\n",
        "\n",
        "# Define the number of features and sensors\n",
        "num_features = 6  # min, max, average, std, zero crossing, first-order mean\n",
        "num_sensors = 2   # Accelerometer and Gyroscope\n",
        "num_axes = 3      # x, y, z axes\n",
        "\n",
        "# Initialize arrays for training and testing features\n",
        "train_features = np.zeros((training_examples, num_sensors * num_features, num_axes))\n",
        "test_features = np.zeros((testing_examples, num_sensors * num_features, num_axes))\n",
        "\n",
        "# print/verify their shape\n",
        "\n",
        "print(\"Shape of train_features:\", train_features.shape)\n",
        "print(\"Shape of test_features:\", test_features.shape)"
      ]
    },
    {
      "cell_type": "code",
      "execution_count": null,
      "metadata": {
        "id": "kj1LZGxgISbx"
      },
      "outputs": [],
      "source": [
        "# feaure extraction (mean, max, min, std, etc)\n",
        "# generation of features for training data set\n",
        "\n",
        "# helper function for zero crossing\n",
        "def zero_crossings(data):\n",
        "    return np.sum(np.diff(np.sign(data), axis=1) != 0, axis=1)\n",
        "\n",
        "# helper function for first-order mean\n",
        "def first_order_mean(data):\n",
        "    return np.mean(np.diff(data, axis=1), axis=1)\n",
        "\n",
        "# Extract features for training data\n",
        "train_features[:, 0, :] = np.min(train_msAcc, axis=1)  # Min for accelerometer\n",
        "train_features[:, 1, :] = np.max(train_msAcc, axis=1)  # Max for accelerometer\n",
        "train_features[:, 2, :] = np.mean(train_msAcc, axis=1)  # Average for accelerometer\n",
        "train_features[:, 3, :] = np.std(train_msAcc, axis=1)  # Std for accelerometer\n",
        "train_features[:, 4, :] = zero_crossings(train_msAcc)  # Zero crossings for accelerometer\n",
        "train_features[:, 5, :] = first_order_mean(train_msAcc)  # First-order mean for accelerometer\n",
        "\n",
        "train_features[:, 6, :] = np.min(train_msGyro, axis=1)  # Min for gyroscope\n",
        "train_features[:, 7, :] = np.max(train_msGyro, axis=1)  # Max for gyroscope\n",
        "train_features[:, 8, :] = np.mean(train_msGyro, axis=1)  # Average for gyroscope\n",
        "train_features[:, 9, :] = np.std(train_msGyro, axis=1)  # Std for gyroscope\n",
        "train_features[:, 10, :] = zero_crossings(train_msGyro)  # Zero crossings for gyroscope\n",
        "train_features[:, 11, :] = first_order_mean(train_msGyro)  # First-order mean for gyroscope\n",
        "\n",
        "# Extract features for testing data\n",
        "test_features[:, 0, :] = np.min(test_msAcc, axis=1)  # Min for accelerometer\n",
        "test_features[:, 1, :] = np.max(test_msAcc, axis=1)  # Max for accelerometer\n",
        "test_features[:, 2, :] = np.mean(test_msAcc, axis=1)  # Average for accelerometer\n",
        "test_features[:, 3, :] = np.std(test_msAcc, axis=1)  # Std for accelerometer\n",
        "test_features[:, 4, :] = zero_crossings(test_msAcc)  # Zero crossings for accelerometer\n",
        "test_features[:, 5, :] = first_order_mean(test_msAcc)  # First-order mean for accelerometer\n",
        "\n",
        "test_features[:, 6, :] = np.min(test_msGyro, axis=1)  # Min for gyroscope\n",
        "test_features[:, 7, :] = np.max(test_msGyro, axis=1)  # Max for gyroscope\n",
        "test_features[:, 8, :] = np.mean(test_msGyro, axis=1)  # Average for gyroscope\n",
        "test_features[:, 9, :] = np.std(test_msGyro, axis=1)  # Std for gyroscope\n",
        "test_features[:, 10, :] = zero_crossings(test_msGyro)  # Zero crossings for gyroscope\n",
        "test_features[:, 11, :] = first_order_mean(test_msGyro)  # First-order mean for gyroscope"
      ]
    },
    {
      "cell_type": "code",
      "execution_count": null,
      "metadata": {
        "id": "eN50h7NQKsd5",
        "colab": {
          "base_uri": "https://localhost:8080/"
        },
        "outputId": "af88f216-9c41-49c2-e517-59ded7421663"
      },
      "outputs": [
        {
          "output_type": "stream",
          "name": "stdout",
          "text": [
            "(40, 36)\n",
            "(40, 36)\n"
          ]
        }
      ],
      "source": [
        "#reshape and combine all features\n",
        "#print(np.shape(train_features))\n",
        "#print(np.shape(test_features))\n",
        "train_features_reshaped = np.reshape(train_features, (np.shape(train_features)[0], np.shape(train_features)[1]*np.shape(train_features)[2] ))\n",
        "print(np.shape(train_features_reshaped))\n",
        "test_features_reshaped = np.reshape(test_features, (np.shape(test_features)[0], np.shape(test_features)[1]*np.shape(test_features)[2] ))\n",
        "print(np.shape(test_features_reshaped))\n"
      ]
    },
    {
      "cell_type": "code",
      "source": [
        "print(f\"Shape of train_labels: {train_labels.shape}\")\n",
        "print(f\"Shape of test_labels: {test_labels.shape}\")"
      ],
      "metadata": {
        "colab": {
          "base_uri": "https://localhost:8080/"
        },
        "id": "C7ZdgumuTvLT",
        "outputId": "ee4cfba8-9a42-4fc1-d979-5f233addbff7"
      },
      "execution_count": null,
      "outputs": [
        {
          "output_type": "stream",
          "name": "stdout",
          "text": [
            "Shape of train_labels: (40,)\n",
            "Shape of test_labels: (40,)\n"
          ]
        }
      ]
    },
    {
      "cell_type": "markdown",
      "source": [
        "# SVM Classifier"
      ],
      "metadata": {
        "id": "OMVYt8-7OsFR"
      }
    },
    {
      "cell_type": "code",
      "execution_count": null,
      "metadata": {
        "id": "HAkVG-FbL7Co",
        "colab": {
          "base_uri": "https://localhost:8080/"
        },
        "outputId": "60d5a819-baca-4530-84c5-08e7d2c634c1"
      },
      "outputs": [
        {
          "output_type": "stream",
          "name": "stdout",
          "text": [
            "SVM Results:\n",
            "Training Accuracy: 97.50%\n",
            "Testing Accuracy: 50.00%\n",
            "Testing Weighted F1-Score: 0.4949\n",
            "Testing Macro F1-Score: 0.4949\n",
            "Testing Confusion Matrix:\n",
            "[[12  8]\n",
            " [12  8]]\n"
          ]
        }
      ],
      "source": [
        "from sklearn.metrics import accuracy_score, f1_score, confusion_matrix\n",
        "\n",
        "# Train and evaluate SVM\n",
        "svm_classifier = SVC(C=1.0, kernel='linear')  # Linear kernel\n",
        "svm_classifier.fit(train_features_reshaped, train_labels)\n",
        "\n",
        "# Predict on training and testing data\n",
        "svm_train_pred = svm_classifier.predict(train_features_reshaped)\n",
        "svm_test_pred = svm_classifier.predict(test_features_reshaped)\n",
        "\n",
        "# Evaluate SVM on training data\n",
        "svm_train_accuracy = accuracy_score(train_labels, svm_train_pred)\n",
        "svm_train_f1_weighted = f1_score(train_labels, svm_train_pred, average='weighted')\n",
        "svm_train_f1_macro = f1_score(train_labels, svm_train_pred, average='macro')\n",
        "\n",
        "# Evaluate SVM on testing data\n",
        "svm_test_accuracy = accuracy_score(test_labels, svm_test_pred)\n",
        "svm_test_f1_weighted = f1_score(test_labels, svm_test_pred, average='weighted')\n",
        "svm_test_f1_macro = f1_score(test_labels, svm_test_pred, average='macro')\n",
        "svm_test_conf_matrix = confusion_matrix(test_labels, svm_test_pred)\n",
        "\n",
        "# Print SVM results\n",
        "print(\"SVM Results:\")\n",
        "print(f\"Training Accuracy: {svm_train_accuracy * 100:.2f}%\")\n",
        "print(f\"Testing Accuracy: {svm_test_accuracy * 100:.2f}%\")\n",
        "print(f\"Testing Weighted F1-Score: {svm_test_f1_weighted:.4f}\")\n",
        "print(f\"Testing Macro F1-Score: {svm_test_f1_macro:.4f}\")\n",
        "print(\"Testing Confusion Matrix:\")\n",
        "print(svm_test_conf_matrix)\n"
      ]
    },
    {
      "cell_type": "markdown",
      "source": [
        "# Random Forest Classifier"
      ],
      "metadata": {
        "id": "6RJJx52nO4pF"
      }
    },
    {
      "cell_type": "code",
      "source": [
        "# Train and evaluate Random Forest\n",
        "rf_classifier = RandomForestClassifier(n_estimators=100, random_state=42)\n",
        "rf_classifier.fit(train_features_reshaped, train_labels)\n",
        "\n",
        "# Predict on training data and testing data\n",
        "train_pred = rf_classifier.predict(train_features_reshaped)\n",
        "test_pred = rf_classifier.predict(test_features_reshaped)\n",
        "\n",
        "# Evaluate Random Forest\n",
        "train_accuracy = accuracy_score(train_labels, train_pred)\n",
        "test_accuracy = accuracy_score(test_labels, test_pred)\n",
        "rf_f1_weighted = f1_score(test_labels, test_pred, average='weighted')\n",
        "rf_f1_macro = f1_score(test_labels, test_pred, average='macro')\n",
        "rf_conf_matrix = confusion_matrix(test_labels, test_pred)\n",
        "\n",
        "print(\"Random Forest Results:\")\n",
        "print(f\"Training Accuracy: {train_accuracy * 100:.2f}%\")\n",
        "print(f\"Testing Accuracy: {test_accuracy * 100:.2f}%\")\n",
        "print(f\"Weighted F1-Score: {rf_f1_weighted:.4f}\")\n",
        "print(f\"Macro F1-Score: {rf_f1_macro:.4f}\")\n",
        "print(\"Confusion Matrix:\")\n",
        "print(rf_conf_matrix)\n"
      ],
      "metadata": {
        "colab": {
          "base_uri": "https://localhost:8080/"
        },
        "id": "PCbU-yJQO9y9",
        "outputId": "b362be54-062d-4c70-9f53-16fdc2229ec0"
      },
      "execution_count": null,
      "outputs": [
        {
          "output_type": "stream",
          "name": "stdout",
          "text": [
            "Random Forest Results:\n",
            "Training Accuracy: 100.00%\n",
            "Testing Accuracy: 70.00%\n",
            "Weighted F1-Score: 0.6992\n",
            "Macro F1-Score: 0.6992\n",
            "Confusion Matrix:\n",
            "[[15  5]\n",
            " [ 7 13]]\n"
          ]
        }
      ]
    },
    {
      "cell_type": "markdown",
      "source": [
        "# Logistic Regression Classifier"
      ],
      "metadata": {
        "id": "sH9prvCMPGlq"
      }
    },
    {
      "cell_type": "code",
      "source": [
        "# Train and evaluate Logistic Regression\n",
        "lr_classifier = LogisticRegression(max_iter=1000, random_state=42)\n",
        "lr_classifier.fit(train_features_reshaped, train_labels)\n",
        "\n",
        "# Predict on training data and testing data\n",
        "train_lr_pred = lr_classifier.predict(train_features_reshaped)\n",
        "test_lr_pred = lr_classifier.predict(test_features_reshaped)\n",
        "\n",
        "# Evaluate Logistic Regression\n",
        "train_lr_accuracy = accuracy_score(train_labels, train_lr_pred)\n",
        "test_lr_accuracy = accuracy_score(test_labels, test_lr_pred)\n",
        "lr_f1_weighted = f1_score(test_labels, test_lr_pred, average='weighted')\n",
        "lr_f1_macro = f1_score(test_labels, test_lr_pred, average='macro')\n",
        "lr_conf_matrix = confusion_matrix(test_labels, test_lr_pred)\n",
        "\n",
        "print(\"Logistic Regression Results:\")\n",
        "print(f\"Training Accuracy: {train_lr_accuracy * 100:.2f}%\")\n",
        "print(f\"Testing Accuracy: {test_lr_accuracy * 100:.2f}%\")\n",
        "print(f\"Weighted F1-Score: {lr_f1_weighted:.4f}\")\n",
        "print(f\"Macro F1-Score: {lr_f1_macro:.4f}\")\n",
        "print(\"Confusion Matrix:\")\n",
        "print(lr_conf_matrix)\n"
      ],
      "metadata": {
        "colab": {
          "base_uri": "https://localhost:8080/"
        },
        "id": "8D_ODE5SPi-f",
        "outputId": "f2747848-a840-43db-bbed-0b8adbc57db8"
      },
      "execution_count": null,
      "outputs": [
        {
          "output_type": "stream",
          "name": "stdout",
          "text": [
            "Logistic Regression Results:\n",
            "Training Accuracy: 97.50%\n",
            "Testing Accuracy: 52.50%\n",
            "Weighted F1-Score: 0.5100\n",
            "Macro F1-Score: 0.5100\n",
            "Confusion Matrix:\n",
            "[[14  6]\n",
            " [13  7]]\n"
          ]
        }
      ]
    },
    {
      "cell_type": "markdown",
      "source": [
        "# Feedforward Neural Network"
      ],
      "metadata": {
        "id": "gVcCzZVCVFal"
      }
    },
    {
      "cell_type": "code",
      "source": [
        "print(f\"Train labels type: {type(train_labels)}, dtype: {train_labels.dtype}\")\n",
        "print(f\"Test labels type: {type(test_labels)}, dtype: {test_labels.dtype}\")\n",
        "\n",
        "# Convert NumPy arrays to PyTorch tensors\n",
        "train_labels_tensor = torch.tensor(train_labels, dtype=torch.int64)\n",
        "test_labels_tensor = torch.tensor(test_labels, dtype=torch.int64)\n",
        "\n",
        "# Check unique values\n",
        "print(f\"Original train labels: {torch.unique(train_labels_tensor)}\")\n",
        "print(f\"Original test labels: {torch.unique(test_labels_tensor)}\")"
      ],
      "metadata": {
        "colab": {
          "base_uri": "https://localhost:8080/"
        },
        "id": "PzfrNUCXW8MK",
        "outputId": "9164ad6a-9d9f-44c4-d6b1-15d7d0320815"
      },
      "execution_count": null,
      "outputs": [
        {
          "output_type": "stream",
          "name": "stdout",
          "text": [
            "Train labels type: <class 'numpy.ndarray'>, dtype: int64\n",
            "Test labels type: <class 'numpy.ndarray'>, dtype: int64\n",
            "Original train labels: tensor([ 9, 25])\n",
            "Original test labels: tensor([ 9, 25])\n"
          ]
        }
      ]
    },
    {
      "cell_type": "code",
      "source": [
        "# Set device (use GPU if available)\n",
        "device = torch.device('cuda' if torch.cuda.is_available() else 'cpu')\n",
        "print(f\"Using device: {device}\")\n",
        "\n",
        "# Example dummy dataset (replace with your actual dataset)\n",
        "# Assuming train_features_reshaped and test_features_reshaped have been created\n",
        "# Example: Features with 36 columns and binary labels\n",
        "train_features_reshaped = torch.randn(100, 36)\n",
        "test_features_reshaped = torch.randn(30, 36)\n",
        "train_labels = torch.randint(0, 2, (100,))\n",
        "test_labels = torch.randint(0, 2, (30,))\n",
        "\n",
        "# Convert data to PyTorch tensors\n",
        "X_train = torch.tensor(train_features_reshaped, dtype=torch.float32).to(device)\n",
        "y_train = torch.tensor(train_labels, dtype=torch.long).to(device)\n",
        "X_test = torch.tensor(test_features_reshaped, dtype=torch.float32).to(device)\n",
        "y_test = torch.tensor(test_labels, dtype=torch.long).to(device)\n",
        "\n",
        "# Remap labels to binary classes\n",
        "y_train = torch.where(y_train > 5, 1, 0)  # Adjust threshold based on your dataset\n",
        "y_test = torch.where(y_test > 5, 1, 0)\n",
        "\n",
        "# Verify unique labels\n",
        "print(f\"Unique labels in training data after remapping: {torch.unique(y_train)}\")\n",
        "print(f\"Unique labels in testing data after remapping: {torch.unique(y_test)}\")\n",
        "\n",
        "# Ensure input size is correct\n",
        "input_size = X_train.shape[1]  # Should match number of features\n",
        "print(f\"Input size: {input_size}\")\n",
        "\n",
        "# Calculate output size based on unique labels\n",
        "output_size = len(torch.unique(y_train))\n",
        "print(f\"Output size (number of classes): {output_size}\")\n",
        "\n",
        "# Define the Feedforward Neural Network\n",
        "class FNN(nn.Module):\n",
        "    def __init__(self, input_size, hidden_size, output_size):\n",
        "        super(FNN, self).__init__()\n",
        "        self.fc1 = nn.Linear(input_size, hidden_size)\n",
        "        self.relu = nn.ReLU()\n",
        "        self.fc2 = nn.Linear(hidden_size, output_size)\n",
        "        self.dropout = nn.Dropout(0.5)\n",
        "\n",
        "    def forward(self, x):\n",
        "        x = self.fc1(x)\n",
        "        x = self.relu(x)\n",
        "        x = self.dropout(x)\n",
        "        x = self.fc2(x)\n",
        "        return x\n",
        "\n",
        "# Initialize the model\n",
        "hidden_size = 32  # Example size for hidden layer\n",
        "model = FNN(input_size, hidden_size, output_size).to(device)\n",
        "\n",
        "# Define loss and optimizer\n",
        "criterion = nn.CrossEntropyLoss()\n",
        "optimizer = optim.Adam(model.parameters(), lr=0.001)\n",
        "\n",
        "# Training parameters\n",
        "num_epochs = 200\n",
        "batch_size = 16\n",
        "\n",
        "# Training loop\n",
        "start_time = time.time()\n",
        "for epoch in range(num_epochs):\n",
        "    model.train()\n",
        "    permutation = torch.randperm(X_train.size(0))\n",
        "\n",
        "    for i in range(0, X_train.size(0), batch_size):\n",
        "        indices = permutation[i:i + batch_size]\n",
        "        batch_X, batch_y = X_train[indices], y_train[indices]\n",
        "\n",
        "        # Forward pass\n",
        "        outputs = model(batch_X)\n",
        "        loss = criterion(outputs, batch_y)\n",
        "\n",
        "        # Backward pass and optimization\n",
        "        optimizer.zero_grad()\n",
        "        loss.backward()\n",
        "        optimizer.step()\n",
        "\n",
        "    # Print loss every 10 epochs\n",
        "    if (epoch + 1) % 10 == 0:\n",
        "        print(f\"Epoch [{epoch + 1}/{num_epochs}], Loss: {loss.item():.4f}\")\n",
        "\n",
        "end_time = time.time()\n",
        "training_time_fnn = end_time - start_time\n",
        "print(f\"FNN Training Time: {training_time_fnn:.2f} seconds\")\n",
        "\n",
        "# Evaluate the model\n",
        "model.eval()\n",
        "with torch.no_grad():\n",
        "    y_pred_train = model(X_train).argmax(dim=1)\n",
        "    y_pred_test = model(X_test).argmax(dim=1)\n",
        "\n",
        "# Calculate metrics\n",
        "fnn_train_accuracy = accuracy_score(y_train.cpu(), y_pred_train.cpu()) * 100\n",
        "fnn_test_accuracy = accuracy_score(y_test.cpu(), y_pred_test.cpu()) * 100\n",
        "fnn_test_f1_weighted = f1_score(y_test.cpu(), y_pred_test.cpu(), average='weighted') * 100\n",
        "fnn_test_f1_macro = f1_score(y_test.cpu(), y_pred_test.cpu(), average='macro') * 100\n",
        "\n",
        "print(f\"FNN Train Accuracy: {fnn_train_accuracy:.2f}%\")\n",
        "print(f\"FNN Test Accuracy: {fnn_test_accuracy:.2f}%\")\n",
        "print(f\"FNN Test Weighted F1-Score: {fnn_test_f1_weighted:.2f}%\")\n",
        "print(f\"FNN Test Macro F1-Score: {fnn_test_f1_macro:.2f}%\")\n",
        "\n",
        "# Save the model\n",
        "torch.save(model.state_dict(), \"fnn_model.pth\")\n",
        "print(\"FNN model saved as 'fnn_model.pth'\")\n"
      ],
      "metadata": {
        "colab": {
          "base_uri": "https://localhost:8080/"
        },
        "id": "r71JbzLXVGC8",
        "outputId": "cf0f9d32-6644-458a-d558-821bdc0d7f07"
      },
      "execution_count": null,
      "outputs": [
        {
          "output_type": "stream",
          "name": "stdout",
          "text": [
            "Using device: cuda\n"
          ]
        },
        {
          "output_type": "stream",
          "name": "stderr",
          "text": [
            "<ipython-input-23-1cae5878fe7d>:14: UserWarning: To copy construct from a tensor, it is recommended to use sourceTensor.clone().detach() or sourceTensor.clone().detach().requires_grad_(True), rather than torch.tensor(sourceTensor).\n",
            "  X_train = torch.tensor(train_features_reshaped, dtype=torch.float32).to(device)\n",
            "<ipython-input-23-1cae5878fe7d>:15: UserWarning: To copy construct from a tensor, it is recommended to use sourceTensor.clone().detach() or sourceTensor.clone().detach().requires_grad_(True), rather than torch.tensor(sourceTensor).\n",
            "  y_train = torch.tensor(train_labels, dtype=torch.long).to(device)\n",
            "<ipython-input-23-1cae5878fe7d>:16: UserWarning: To copy construct from a tensor, it is recommended to use sourceTensor.clone().detach() or sourceTensor.clone().detach().requires_grad_(True), rather than torch.tensor(sourceTensor).\n",
            "  X_test = torch.tensor(test_features_reshaped, dtype=torch.float32).to(device)\n",
            "<ipython-input-23-1cae5878fe7d>:17: UserWarning: To copy construct from a tensor, it is recommended to use sourceTensor.clone().detach() or sourceTensor.clone().detach().requires_grad_(True), rather than torch.tensor(sourceTensor).\n",
            "  y_test = torch.tensor(test_labels, dtype=torch.long).to(device)\n"
          ]
        },
        {
          "output_type": "stream",
          "name": "stdout",
          "text": [
            "Unique labels in training data after remapping: tensor([0], device='cuda:0')\n",
            "Unique labels in testing data after remapping: tensor([0], device='cuda:0')\n",
            "Input size: 36\n",
            "Output size (number of classes): 1\n",
            "Epoch [10/200], Loss: 0.0000\n",
            "Epoch [20/200], Loss: 0.0000\n",
            "Epoch [30/200], Loss: 0.0000\n",
            "Epoch [40/200], Loss: 0.0000\n",
            "Epoch [50/200], Loss: 0.0000\n",
            "Epoch [60/200], Loss: 0.0000\n",
            "Epoch [70/200], Loss: 0.0000\n",
            "Epoch [80/200], Loss: 0.0000\n",
            "Epoch [90/200], Loss: 0.0000\n",
            "Epoch [100/200], Loss: 0.0000\n",
            "Epoch [110/200], Loss: 0.0000\n",
            "Epoch [120/200], Loss: 0.0000\n",
            "Epoch [130/200], Loss: 0.0000\n",
            "Epoch [140/200], Loss: 0.0000\n",
            "Epoch [150/200], Loss: 0.0000\n",
            "Epoch [160/200], Loss: 0.0000\n",
            "Epoch [170/200], Loss: 0.0000\n",
            "Epoch [180/200], Loss: 0.0000\n",
            "Epoch [190/200], Loss: 0.0000\n",
            "Epoch [200/200], Loss: 0.0000\n",
            "FNN Training Time: 2.77 seconds\n",
            "FNN Train Accuracy: 100.00%\n",
            "FNN Test Accuracy: 100.00%\n",
            "FNN Test Weighted F1-Score: 100.00%\n",
            "FNN Test Macro F1-Score: 100.00%\n",
            "FNN model saved as 'fnn_model.pth'\n"
          ]
        }
      ]
    },
    {
      "cell_type": "markdown",
      "source": [
        "# Convolutional Neural Network (CNN)"
      ],
      "metadata": {
        "id": "CPKprgOuYdye"
      }
    },
    {
      "cell_type": "code",
      "source": [
        "# Set device (use GPU if available)\n",
        "device = torch.device('cuda' if torch.cuda.is_available() else 'cpu')\n",
        "print(f\"Using device: {device}\")\n",
        "\n",
        "# Convert data to PyTorch tensors\n",
        "X_train = torch.tensor(train_features_reshaped, dtype=torch.float32).to(device)\n",
        "y_train = torch.tensor(train_labels, dtype=torch.long).to(device)\n",
        "X_test = torch.tensor(test_features_reshaped, dtype=torch.float32).to(device)\n",
        "y_test = torch.tensor(test_labels, dtype=torch.long).to(device)\n",
        "\n",
        "# Remap labels to 0 and 1\n",
        "y_train = torch.where(y_train == 10, 0, 1)  # Replace 10 with 0, others with 1\n",
        "y_test = torch.where(y_test == 10, 0, 1)   # Replace 10 with 0, others with 1\n",
        "\n",
        "# Ensure input size is correct (36 features)\n",
        "input_size = X_train.shape[1]  # This should be 36\n",
        "print(f\"Input size: {input_size}\")\n",
        "\n",
        "# Ensure output size is based on the number of unique classes (should be 2)\n",
        "output_size = 2  # Number of classes (0 and 1)\n",
        "print(f\"Output size (number of classes): {output_size}\")\n",
        "\n",
        "# Check if labels are in the correct range (0 to output_size-1)\n",
        "print(f\"Unique labels in training data: {torch.unique(y_train)}\")\n",
        "\n",
        "# Define the CNN architecture (1D Convolutional Network)\n",
        "class CNN(nn.Module):\n",
        "    def __init__(self, input_size, hidden_size, output_size):\n",
        "        super(CNN, self).__init__()\n",
        "        # 1D Convolutional layer\n",
        "        self.conv1 = nn.Conv1d(in_channels=1, out_channels=hidden_size, kernel_size=3, stride=1, padding=1)\n",
        "        self.relu = nn.ReLU()\n",
        "        self.pool = nn.MaxPool1d(kernel_size=2, stride=2)\n",
        "        self.fc1 = nn.Linear(hidden_size * (input_size // 2), output_size)  # Adjust for pooling\n",
        "\n",
        "    def forward(self, x):\n",
        "        x = x.unsqueeze(1)  # Add channel dimension (1D Conv expects channels)\n",
        "        x = self.conv1(x)\n",
        "        x = self.relu(x)\n",
        "        x = self.pool(x)\n",
        "        x = x.view(x.size(0), -1)  # Flatten the output for the fully connected layer\n",
        "        x = self.fc1(x)\n",
        "        return x\n",
        "\n",
        "# Initialize the model\n",
        "hidden_size = 32  # You can adjust this based on your preference\n",
        "model = CNN(input_size, hidden_size, output_size).to(device)\n",
        "\n",
        "# Define loss and optimizer\n",
        "criterion = nn.CrossEntropyLoss()\n",
        "optimizer = optim.Adam(model.parameters(), lr=0.001)\n",
        "\n",
        "# Training parameters\n",
        "num_epochs = 200\n",
        "batch_size = 16\n",
        "\n",
        "# Training loop\n",
        "start_time = time.time()\n",
        "for epoch in range(num_epochs):\n",
        "    model.train()\n",
        "    permutation = torch.randperm(X_train.size(0))\n",
        "\n",
        "    for i in range(0, X_train.size(0), batch_size):\n",
        "        indices = permutation[i:i + batch_size]\n",
        "        batch_X, batch_y = X_train[indices], y_train[indices]\n",
        "\n",
        "        # Forward pass\n",
        "        outputs = model(batch_X)\n",
        "        loss = criterion(outputs, batch_y)\n",
        "\n",
        "        # Backward pass and optimization\n",
        "        optimizer.zero_grad()\n",
        "        loss.backward()\n",
        "        optimizer.step()\n",
        "\n",
        "    # Print loss every 10 epochs\n",
        "    if (epoch + 1) % 10 == 0:\n",
        "        print(f\"Epoch [{epoch + 1}/{num_epochs}], Loss: {loss.item():.4f}\")\n",
        "\n",
        "end_time = time.time()\n",
        "training_time_cnn = end_time - start_time\n",
        "print(f\"CNN Training Time: {training_time_cnn:.2f} seconds\")\n",
        "\n",
        "# Evaluate the model\n",
        "model.eval()\n",
        "with torch.no_grad():\n",
        "    y_pred_train = model(X_train).argmax(dim=1)\n",
        "    y_pred_test = model(X_test).argmax(dim=1)\n",
        "\n",
        "# Calculate metrics\n",
        "cnn_train_accuracy = accuracy_score(y_train.cpu(), y_pred_train.cpu()) * 100\n",
        "cnn_test_accuracy = accuracy_score(y_test.cpu(), y_pred_test.cpu()) * 100\n",
        "cnn_test_f1_weighted = f1_score(y_test.cpu(), y_pred_test.cpu(), average='weighted') * 100\n",
        "cnn_test_f1_macro = f1_score(y_test.cpu(), y_pred_test.cpu(), average='macro') * 100\n",
        "\n",
        "print(f\"CNN Train Accuracy: {cnn_train_accuracy:.2f}%\")\n",
        "print(f\"CNN Test Accuracy: {cnn_test_accuracy:.2f}%\")\n",
        "print(f\"CNN Test Weighted F1-Score: {cnn_test_f1_weighted:.2f}%\")\n",
        "print(f\"CNN Test Macro F1-Score: {cnn_test_f1_macro:.2f}%\")\n",
        "\n",
        "# Save the model\n",
        "torch.save(model.state_dict(), \"cnn_model.pth\")\n",
        "print(\"CNN model saved as 'cnn_model.pth'\")\n"
      ],
      "metadata": {
        "colab": {
          "base_uri": "https://localhost:8080/"
        },
        "id": "eVeqy1w_YfH1",
        "outputId": "0a4741d9-0d83-46f7-924e-9506a55b787d"
      },
      "execution_count": null,
      "outputs": [
        {
          "output_type": "stream",
          "name": "stdout",
          "text": [
            "Using device: cuda\n",
            "Input size: 36\n",
            "Output size (number of classes): 2\n",
            "Unique labels in training data: tensor([1], device='cuda:0')\n"
          ]
        },
        {
          "output_type": "stream",
          "name": "stderr",
          "text": [
            "<ipython-input-24-4cc0319d4740>:6: UserWarning: To copy construct from a tensor, it is recommended to use sourceTensor.clone().detach() or sourceTensor.clone().detach().requires_grad_(True), rather than torch.tensor(sourceTensor).\n",
            "  X_train = torch.tensor(train_features_reshaped, dtype=torch.float32).to(device)\n",
            "<ipython-input-24-4cc0319d4740>:7: UserWarning: To copy construct from a tensor, it is recommended to use sourceTensor.clone().detach() or sourceTensor.clone().detach().requires_grad_(True), rather than torch.tensor(sourceTensor).\n",
            "  y_train = torch.tensor(train_labels, dtype=torch.long).to(device)\n",
            "<ipython-input-24-4cc0319d4740>:8: UserWarning: To copy construct from a tensor, it is recommended to use sourceTensor.clone().detach() or sourceTensor.clone().detach().requires_grad_(True), rather than torch.tensor(sourceTensor).\n",
            "  X_test = torch.tensor(test_features_reshaped, dtype=torch.float32).to(device)\n",
            "<ipython-input-24-4cc0319d4740>:9: UserWarning: To copy construct from a tensor, it is recommended to use sourceTensor.clone().detach() or sourceTensor.clone().detach().requires_grad_(True), rather than torch.tensor(sourceTensor).\n",
            "  y_test = torch.tensor(test_labels, dtype=torch.long).to(device)\n"
          ]
        },
        {
          "output_type": "stream",
          "name": "stdout",
          "text": [
            "Epoch [10/200], Loss: 0.0009\n",
            "Epoch [20/200], Loss: 0.0003\n",
            "Epoch [30/200], Loss: 0.0005\n",
            "Epoch [40/200], Loss: 0.0002\n",
            "Epoch [50/200], Loss: 0.0000\n",
            "Epoch [60/200], Loss: 0.0000\n",
            "Epoch [70/200], Loss: 0.0000\n",
            "Epoch [80/200], Loss: 0.0000\n",
            "Epoch [90/200], Loss: 0.0000\n",
            "Epoch [100/200], Loss: 0.0000\n",
            "Epoch [110/200], Loss: 0.0000\n",
            "Epoch [120/200], Loss: 0.0000\n",
            "Epoch [130/200], Loss: 0.0000\n",
            "Epoch [140/200], Loss: 0.0000\n",
            "Epoch [150/200], Loss: 0.0000\n",
            "Epoch [160/200], Loss: 0.0000\n",
            "Epoch [170/200], Loss: 0.0000\n",
            "Epoch [180/200], Loss: 0.0000\n",
            "Epoch [190/200], Loss: 0.0000\n",
            "Epoch [200/200], Loss: 0.0000\n",
            "CNN Training Time: 3.18 seconds\n",
            "CNN Train Accuracy: 100.00%\n",
            "CNN Test Accuracy: 100.00%\n",
            "CNN Test Weighted F1-Score: 100.00%\n",
            "CNN Test Macro F1-Score: 100.00%\n",
            "CNN model saved as 'cnn_model.pth'\n"
          ]
        }
      ]
    },
    {
      "cell_type": "markdown",
      "source": [
        "# Pretrained Model (TabNet)"
      ],
      "metadata": {
        "id": "TnWH4yzxa4PW"
      }
    },
    {
      "cell_type": "code",
      "source": [
        "pip install pytorch-tabnet"
      ],
      "metadata": {
        "id": "Vl4Hi6KwbTEK",
        "colab": {
          "base_uri": "https://localhost:8080/"
        },
        "collapsed": true,
        "outputId": "560f3441-f130-4e35-ca5e-e67273c7e5f4"
      },
      "execution_count": null,
      "outputs": [
        {
          "output_type": "stream",
          "name": "stdout",
          "text": [
            "Collecting pytorch-tabnet\n",
            "  Downloading pytorch_tabnet-4.1.0-py3-none-any.whl.metadata (15 kB)\n",
            "Requirement already satisfied: numpy>=1.17 in /usr/local/lib/python3.11/dist-packages (from pytorch-tabnet) (1.26.4)\n",
            "Requirement already satisfied: scikit_learn>0.21 in /usr/local/lib/python3.11/dist-packages (from pytorch-tabnet) (1.6.0)\n",
            "Requirement already satisfied: scipy>1.4 in /usr/local/lib/python3.11/dist-packages (from pytorch-tabnet) (1.13.1)\n",
            "Requirement already satisfied: torch>=1.3 in /usr/local/lib/python3.11/dist-packages (from pytorch-tabnet) (2.5.1+cu121)\n",
            "Requirement already satisfied: tqdm>=4.36 in /usr/local/lib/python3.11/dist-packages (from pytorch-tabnet) (4.67.1)\n",
            "Requirement already satisfied: joblib>=1.2.0 in /usr/local/lib/python3.11/dist-packages (from scikit_learn>0.21->pytorch-tabnet) (1.4.2)\n",
            "Requirement already satisfied: threadpoolctl>=3.1.0 in /usr/local/lib/python3.11/dist-packages (from scikit_learn>0.21->pytorch-tabnet) (3.5.0)\n",
            "Requirement already satisfied: filelock in /usr/local/lib/python3.11/dist-packages (from torch>=1.3->pytorch-tabnet) (3.16.1)\n",
            "Requirement already satisfied: typing-extensions>=4.8.0 in /usr/local/lib/python3.11/dist-packages (from torch>=1.3->pytorch-tabnet) (4.12.2)\n",
            "Requirement already satisfied: networkx in /usr/local/lib/python3.11/dist-packages (from torch>=1.3->pytorch-tabnet) (3.4.2)\n",
            "Requirement already satisfied: jinja2 in /usr/local/lib/python3.11/dist-packages (from torch>=1.3->pytorch-tabnet) (3.1.5)\n",
            "Requirement already satisfied: fsspec in /usr/local/lib/python3.11/dist-packages (from torch>=1.3->pytorch-tabnet) (2024.10.0)\n",
            "Requirement already satisfied: nvidia-cuda-nvrtc-cu12==12.1.105 in /usr/local/lib/python3.11/dist-packages (from torch>=1.3->pytorch-tabnet) (12.1.105)\n",
            "Requirement already satisfied: nvidia-cuda-runtime-cu12==12.1.105 in /usr/local/lib/python3.11/dist-packages (from torch>=1.3->pytorch-tabnet) (12.1.105)\n",
            "Requirement already satisfied: nvidia-cuda-cupti-cu12==12.1.105 in /usr/local/lib/python3.11/dist-packages (from torch>=1.3->pytorch-tabnet) (12.1.105)\n",
            "Requirement already satisfied: nvidia-cudnn-cu12==9.1.0.70 in /usr/local/lib/python3.11/dist-packages (from torch>=1.3->pytorch-tabnet) (9.1.0.70)\n",
            "Requirement already satisfied: nvidia-cublas-cu12==12.1.3.1 in /usr/local/lib/python3.11/dist-packages (from torch>=1.3->pytorch-tabnet) (12.1.3.1)\n",
            "Requirement already satisfied: nvidia-cufft-cu12==11.0.2.54 in /usr/local/lib/python3.11/dist-packages (from torch>=1.3->pytorch-tabnet) (11.0.2.54)\n",
            "Requirement already satisfied: nvidia-curand-cu12==10.3.2.106 in /usr/local/lib/python3.11/dist-packages (from torch>=1.3->pytorch-tabnet) (10.3.2.106)\n",
            "Requirement already satisfied: nvidia-cusolver-cu12==11.4.5.107 in /usr/local/lib/python3.11/dist-packages (from torch>=1.3->pytorch-tabnet) (11.4.5.107)\n",
            "Requirement already satisfied: nvidia-cusparse-cu12==12.1.0.106 in /usr/local/lib/python3.11/dist-packages (from torch>=1.3->pytorch-tabnet) (12.1.0.106)\n",
            "Requirement already satisfied: nvidia-nccl-cu12==2.21.5 in /usr/local/lib/python3.11/dist-packages (from torch>=1.3->pytorch-tabnet) (2.21.5)\n",
            "Requirement already satisfied: nvidia-nvtx-cu12==12.1.105 in /usr/local/lib/python3.11/dist-packages (from torch>=1.3->pytorch-tabnet) (12.1.105)\n",
            "Requirement already satisfied: triton==3.1.0 in /usr/local/lib/python3.11/dist-packages (from torch>=1.3->pytorch-tabnet) (3.1.0)\n",
            "Requirement already satisfied: sympy==1.13.1 in /usr/local/lib/python3.11/dist-packages (from torch>=1.3->pytorch-tabnet) (1.13.1)\n",
            "Requirement already satisfied: nvidia-nvjitlink-cu12 in /usr/local/lib/python3.11/dist-packages (from nvidia-cusolver-cu12==11.4.5.107->torch>=1.3->pytorch-tabnet) (12.6.85)\n",
            "Requirement already satisfied: mpmath<1.4,>=1.1.0 in /usr/local/lib/python3.11/dist-packages (from sympy==1.13.1->torch>=1.3->pytorch-tabnet) (1.3.0)\n",
            "Requirement already satisfied: MarkupSafe>=2.0 in /usr/local/lib/python3.11/dist-packages (from jinja2->torch>=1.3->pytorch-tabnet) (3.0.2)\n",
            "Downloading pytorch_tabnet-4.1.0-py3-none-any.whl (44 kB)\n",
            "\u001b[2K   \u001b[90m━━━━━━━━━━━━━━━━━━━━━━━━━━━━━━━━━━━━━━━━\u001b[0m \u001b[32m44.5/44.5 kB\u001b[0m \u001b[31m2.3 MB/s\u001b[0m eta \u001b[36m0:00:00\u001b[0m\n",
            "\u001b[?25hInstalling collected packages: pytorch-tabnet\n",
            "Successfully installed pytorch-tabnet-4.1.0\n"
          ]
        }
      ]
    },
    {
      "cell_type": "code",
      "source": [
        "from pytorch_tabnet.tab_model import TabNetClassifier\n",
        "\n",
        "# Set device (use GPU if available)\n",
        "device = torch.device('cuda' if torch.cuda.is_available() else 'cpu')\n",
        "print(f\"Using device: {device}\")\n",
        "\n",
        "# Convert data to PyTorch tensors and then to numpy arrays\n",
        "X_train = np.array(train_features_reshaped, dtype=np.float32)  # Convert to numpy array\n",
        "y_train = np.array(train_labels, dtype=np.int64)  # Convert to numpy array\n",
        "X_test = np.array(test_features_reshaped, dtype=np.float32)  # Convert to numpy array\n",
        "y_test = np.array(test_labels, dtype=np.int64)  # Convert to numpy array\n",
        "\n",
        "# Remap labels to 0 and 1 (using numpy where)\n",
        "y_train = np.where(y_train == 10, 0, 1)\n",
        "y_test = np.where(y_test == 10, 0, 1)\n",
        "\n",
        "# Initialize the TabNet model\n",
        "model = TabNetClassifier(\n",
        "    n_d=8,  # Width of the decision prediction layer\n",
        "    n_a=8,  # Width of the attention embedding for each mask\n",
        "    n_steps=3,  # Number of steps in the architecture\n",
        "    gamma=1.3,  # Relaxation factor\n",
        "    n_independent=2,  # Number of independent Gated Linear Units layers at each step\n",
        "    n_shared=2,  # Number of shared Gated Linear Units layers at each step\n",
        "    optimizer_fn=torch.optim.Adam,  # Optimizer function\n",
        "    optimizer_params=dict(lr=0.001),  # Optimizer parameters\n",
        "    scheduler_params={\"step_size\": 50, \"gamma\": 0.9},  # Scheduler parameters\n",
        "    scheduler_fn=torch.optim.lr_scheduler.StepLR,  # Learning rate scheduler\n",
        "    mask_type=\"entmax\",  # Use sparsemax or entmax for feature selection\n",
        "    verbose=1\n",
        ")\n",
        "\n",
        "# Train the model\n",
        "start_time = time.time()\n",
        "model.fit(\n",
        "    X_train=X_train, y_train=y_train,\n",
        "    eval_set=[(X_train, y_train), (X_test, y_test)],\n",
        "    eval_name=['train', 'test'],\n",
        "    eval_metric=['accuracy'],\n",
        "    max_epochs=200,\n",
        "    patience=20,  # Early stopping patience\n",
        "    batch_size=16,\n",
        "    virtual_batch_size=8\n",
        ")\n",
        "end_time = time.time()\n",
        "training_time_tabnet = end_time - start_time\n",
        "print(f\"TabNet Training Time: {training_time_tabnet:.2f} seconds\")\n",
        "\n",
        "# Evaluate the model\n",
        "y_pred_train = model.predict(X_train)\n",
        "y_pred_test = model.predict(X_test)\n",
        "\n",
        "# Calculate metrics\n",
        "tabnet_train_accuracy = accuracy_score(y_train, y_pred_train) * 100\n",
        "tabnet_test_accuracy = accuracy_score(y_test, y_pred_test) * 100\n",
        "tabnet_test_f1_weighted = f1_score(y_test, y_pred_test, average='weighted') * 100\n",
        "tabnet_test_f1_macro = f1_score(y_test, y_pred_test, average='macro') * 100\n",
        "\n",
        "print(f\"TabNet Train Accuracy: {tabnet_train_accuracy:.2f}%\")\n",
        "print(f\"TabNet Test Accuracy: {tabnet_test_accuracy:.2f}%\")\n",
        "print(f\"TabNet Test Weighted F1-Score: {tabnet_test_f1_weighted:.2f}%\")\n",
        "print(f\"TabNet Test Macro F1-Score: {tabnet_test_f1_macro:.2f}%\")\n",
        "\n",
        "# Save the model\n",
        "model.save_model(\"tabnet_model\")\n",
        "print(\"TabNet model saved as 'tabnet_model.zip'\")\n"
      ],
      "metadata": {
        "colab": {
          "base_uri": "https://localhost:8080/"
        },
        "id": "a0jiUmlEa6Qc",
        "outputId": "fb526edd-34e9-47a7-aaee-6ed8879ca923"
      },
      "execution_count": null,
      "outputs": [
        {
          "output_type": "stream",
          "name": "stdout",
          "text": [
            "Using device: cuda\n"
          ]
        },
        {
          "output_type": "stream",
          "name": "stderr",
          "text": [
            "/usr/local/lib/python3.11/dist-packages/pytorch_tabnet/abstract_model.py:82: UserWarning: Device used : cuda\n",
            "  warnings.warn(f\"Device used : {self.device}\")\n"
          ]
        },
        {
          "output_type": "stream",
          "name": "stdout",
          "text": [
            "epoch 0  | loss: 0.00165 | train_accuracy: 1.0     | test_accuracy: 1.0     |  0:00:00s\n",
            "epoch 1  | loss: 0.00162 | train_accuracy: 1.0     | test_accuracy: 1.0     |  0:00:01s\n",
            "epoch 2  | loss: 0.00162 | train_accuracy: 1.0     | test_accuracy: 1.0     |  0:00:01s\n",
            "epoch 3  | loss: 0.0016  | train_accuracy: 1.0     | test_accuracy: 1.0     |  0:00:01s\n",
            "epoch 4  | loss: 0.00158 | train_accuracy: 1.0     | test_accuracy: 1.0     |  0:00:01s\n",
            "epoch 5  | loss: 0.0016  | train_accuracy: 1.0     | test_accuracy: 1.0     |  0:00:02s\n",
            "epoch 6  | loss: 0.00158 | train_accuracy: 1.0     | test_accuracy: 1.0     |  0:00:02s\n",
            "epoch 7  | loss: 0.00161 | train_accuracy: 1.0     | test_accuracy: 1.0     |  0:00:02s\n",
            "epoch 8  | loss: 0.00162 | train_accuracy: 1.0     | test_accuracy: 1.0     |  0:00:02s\n",
            "epoch 9  | loss: 0.00156 | train_accuracy: 1.0     | test_accuracy: 1.0     |  0:00:03s\n",
            "epoch 10 | loss: 0.00163 | train_accuracy: 1.0     | test_accuracy: 1.0     |  0:00:03s\n",
            "epoch 11 | loss: 0.00159 | train_accuracy: 1.0     | test_accuracy: 1.0     |  0:00:03s\n",
            "epoch 12 | loss: 0.00158 | train_accuracy: 1.0     | test_accuracy: 1.0     |  0:00:03s\n",
            "epoch 13 | loss: 0.00157 | train_accuracy: 1.0     | test_accuracy: 1.0     |  0:00:04s\n",
            "epoch 14 | loss: 0.00161 | train_accuracy: 1.0     | test_accuracy: 1.0     |  0:00:04s\n",
            "epoch 15 | loss: 0.00154 | train_accuracy: 1.0     | test_accuracy: 1.0     |  0:00:04s\n",
            "epoch 16 | loss: 0.00155 | train_accuracy: 1.0     | test_accuracy: 1.0     |  0:00:05s\n",
            "epoch 17 | loss: 0.00153 | train_accuracy: 1.0     | test_accuracy: 1.0     |  0:00:05s\n",
            "epoch 18 | loss: 0.00155 | train_accuracy: 1.0     | test_accuracy: 1.0     |  0:00:06s\n",
            "epoch 19 | loss: 0.00157 | train_accuracy: 1.0     | test_accuracy: 1.0     |  0:00:06s\n",
            "epoch 20 | loss: 0.00156 | train_accuracy: 1.0     | test_accuracy: 1.0     |  0:00:07s\n",
            "\n",
            "Early stopping occurred at epoch 20 with best_epoch = 0 and best_test_accuracy = 1.0\n",
            "TabNet Training Time: 7.62 seconds\n"
          ]
        },
        {
          "output_type": "stream",
          "name": "stderr",
          "text": [
            "/usr/local/lib/python3.11/dist-packages/pytorch_tabnet/callbacks.py:172: UserWarning: Best weights from best epoch are automatically used!\n",
            "  warnings.warn(wrn_msg)\n"
          ]
        },
        {
          "output_type": "stream",
          "name": "stdout",
          "text": [
            "TabNet Train Accuracy: 100.00%\n",
            "TabNet Test Accuracy: 100.00%\n",
            "TabNet Test Weighted F1-Score: 100.00%\n",
            "TabNet Test Macro F1-Score: 100.00%\n",
            "Successfully saved model at tabnet_model.zip\n",
            "TabNet model saved as 'tabnet_model.zip'\n"
          ]
        }
      ]
    },
    {
      "cell_type": "markdown",
      "source": [
        "# Result Comparison for All"
      ],
      "metadata": {
        "id": "vfwSxcxDcqCh"
      }
    },
    {
      "cell_type": "code",
      "source": [
        "import matplotlib.pyplot as plt\n",
        "\n",
        "# Metrics for each model (ensure these variables are defined in your environment)\n",
        "models = ['TabNet', 'CNN', 'FNN', 'Logistic Regression', 'Random Forest', 'SVM']\n",
        "train_accuracies = [tabnet_train_accuracy, cnn_train_accuracy, fnn_train_accuracy, train_lr_accuracy*100, train_accuracy*100, svm_train_accuracy*100]\n",
        "test_accuracies = [tabnet_test_accuracy, cnn_test_accuracy, fnn_test_accuracy, test_lr_accuracy*100, test_accuracy*100, svm_test_accuracy*100]\n",
        "\n",
        "# Plotting the grouped bar chart\n",
        "x = range(len(models))  # the label locations\n",
        "\n",
        "fig, ax = plt.subplots(figsize=(10, 6))\n",
        "bar_width = 0.35  # Width of the bars\n",
        "\n",
        "# Creating the bars for train and test accuracies\n",
        "bars_train = ax.bar(x, train_accuracies, bar_width, label='Train Accuracy', color='skyblue')\n",
        "bars_test = ax.bar([p + bar_width for p in x], test_accuracies, bar_width, label='Test Accuracy', color='salmon')\n",
        "\n",
        "# Labels and title\n",
        "ax.set_xlabel('Models')\n",
        "ax.set_ylabel('Accuracy (%)')\n",
        "ax.set_title('Model Comparison: Train vs Test Accuracy')\n",
        "ax.set_xticks([p + bar_width / 2 for p in x])\n",
        "ax.set_xticklabels(models)\n",
        "ax.legend()\n",
        "\n",
        "# Adding data labels\n",
        "def add_labels(bars):\n",
        "    for bar in bars:\n",
        "        height = bar.get_height()\n",
        "        ax.annotate(f'{height:.2f}', xy=(bar.get_x() + bar.get_width() / 2, height),\n",
        "                    xytext=(0, 3), textcoords=\"offset points\", ha='center', va='bottom')\n",
        "\n",
        "add_labels(bars_train)\n",
        "add_labels(bars_test)\n",
        "\n",
        "plt.tight_layout()\n",
        "plt.show()\n"
      ],
      "metadata": {
        "colab": {
          "base_uri": "https://localhost:8080/",
          "height": 607
        },
        "id": "oMaC-lqRlFvd",
        "outputId": "c2b7024f-ad29-4cf9-fb74-e4f81564eea0"
      },
      "execution_count": null,
      "outputs": [
        {
          "output_type": "display_data",
          "data": {
            "text/plain": [
              "<Figure size 1000x600 with 1 Axes>"
            ],
            "image/png": "[encoded data removed]"
          },
          "metadata": {}
        }
      ]
    }
  ],
  "metadata": {
    "colab": {
      "provenance": [],
      "gpuType": "T4"
    },
    "kernelspec": {
      "display_name": "Python 3",
      "name": "python3"
    },
    "language_info": {
      "codemirror_mode": {
        "name": "ipython",
        "version": 3
      },
      "file_extension": ".py",
      "mimetype": "text/x-python",
      "name": "python",
      "nbconvert_exporter": "python",
      "pygments_lexer": "ipython3",
      "version": "3.9.4"
    },
    "accelerator": "GPU"
  },
  "nbformat": 4,
  "nbformat_minor": 0
}